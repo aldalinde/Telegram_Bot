{
 "cells": [
  {
   "cell_type": "code",
   "execution_count": 1,
   "metadata": {},
   "outputs": [
    {
     "name": "stderr",
     "output_type": "stream",
     "text": [
      "C:\\Users\\Armik\\AppData\\Local\\Programs\\Python\\Python39\\lib\\site-packages\\gensim\\utils.py:1212: UserWarning: detected Windows; aliasing chunkize to chunkize_serial\n",
      "  warnings.warn(\"detected Windows; aliasing chunkize to chunkize_serial\")\n"
     ]
    },
    {
     "data": {
      "text/plain": [
       "'3.6.0'"
      ]
     },
     "execution_count": 1,
     "metadata": {},
     "output_type": "execute_result"
    }
   ],
   "source": [
    "import gensim\n",
    "gensim.__version__"
   ]
  },
  {
   "cell_type": "code",
   "execution_count": 2,
   "metadata": {
    "id": "xAhRcgdAVJzn"
   },
   "outputs": [],
   "source": [
    "import string\n",
    "from pymorphy2 import MorphAnalyzer\n",
    "from stop_words import get_stop_words\n",
    "import annoy\n",
    "from gensim.models import Word2Vec, FastText\n",
    "import pickle\n",
    "import numpy as np\n",
    "from tqdm.notebook import tqdm\n",
    "import pandas as pd"
   ]
  },
  {
   "cell_type": "code",
   "execution_count": 3,
   "metadata": {},
   "outputs": [],
   "source": [
    "from preprocess_func import morpher, sw, exclude, preprocess_txt, embed_txt"
   ]
  },
  {
   "cell_type": "code",
   "execution_count": 4,
   "metadata": {},
   "outputs": [],
   "source": [
    "import os, sys\n",
    "\n",
    "module_path = os.path.abspath(os.path.join(os.pardir))\n",
    "if module_path not in sys.path:\n",
    "    sys.path.append(module_path)"
   ]
  },
  {
   "cell_type": "code",
   "execution_count": 5,
   "metadata": {
    "id": "JBnSQav-VJz6"
   },
   "outputs": [
    {
     "data": {
      "application/vnd.jupyter.widget-view+json": {
       "model_id": "bcc30b6930b24987953c381f6982cce2",
       "version_major": 2,
       "version_minor": 0
      },
      "text/plain": [
       "0it [00:00, ?it/s]"
      ]
     },
     "metadata": {},
     "output_type": "display_data"
    }
   ],
   "source": [
    "#Small preprocess of the answers\n",
    "\n",
    "question = None\n",
    "written = False\n",
    "\n",
    "with open(\"../data/prepared_answers.txt\", \"w\", encoding='utf-8') as fout:  \n",
    "    with open(\"../data/Otvety.txt\", \"r\", encoding='utf-8') as fin:\n",
    "        for line in tqdm(fin):\n",
    "            if line.startswith(\"---\"):\n",
    "                written = False\n",
    "                continue\n",
    "            if not written and question is not None:\n",
    "                fout.write(question.replace(\"\\t\", \" \").strip() + \"\\t\" + line.replace(\"\\t\", \" \"))\n",
    "                written = True\n",
    "                question = None\n",
    "                continue\n",
    "            if not written:\n",
    "                question = line.strip()\n",
    "                continue"
   ]
  },
  {
   "cell_type": "markdown",
   "metadata": {},
   "source": [
    "\tвопрос о ТДВ)) давно и хорошо отдыхаем)) ЛИЧНО ВАМ здесь кого советовали завести?)) . \n",
    "Как парни относятся к цветным линзам? Если у девушки то зеленые глаза, то голубые...)) .\tменя вобще прикалывает эта тема :). \n",
    "Что делать, сегодня нашёл 2 миллиона рублей? .\tЕсли это \"счастье \" действительно на вас свалилось, лучше пойти в милицию и заявить о находке. Такие деньги просто так не терют, а что самое интересное их неприменно будут искать и поверьте"
   ]
  },
  {
   "cell_type": "code",
   "execution_count": 6,
   "metadata": {
    "colab": {
     "referenced_widgets": [
      "f32db27df42f4863a58d2d9996f088e3"
     ]
    },
    "id": "uvwpdubYVJz8",
    "outputId": "83dd0de8-4106-4dbc-c584-61c1a23cb9bd"
   },
   "outputs": [
    {
     "data": {
      "application/vnd.jupyter.widget-view+json": {
       "model_id": "179c03612b794a4cbea87a935260ecd8",
       "version_major": 2,
       "version_minor": 0
      },
      "text/plain": [
       "0it [00:00, ?it/s]"
      ]
     },
     "metadata": {},
     "output_type": "display_data"
    }
   ],
   "source": [
    "# Preprocess for models fitting\n",
    "\n",
    "sentences = []\n",
    "\n",
    "c = 0\n",
    "\n",
    "with open(\"../data/Otvety.txt\", \"r\", encoding='utf-8') as fin:\n",
    "    for line in tqdm(fin):\n",
    "        spls = preprocess_txt(line)\n",
    "        sentences.append(spls)\n",
    "        c += 1\n",
    "        if c > 50000:\n",
    "            break"
   ]
  },
  {
   "cell_type": "code",
   "execution_count": 7,
   "metadata": {
    "id": "zwXvXkJBVJ0B"
   },
   "outputs": [],
   "source": [
    "sentences = [i for i in sentences if len(i) > 2]\n"
   ]
  },
  {
   "cell_type": "code",
   "execution_count": 8,
   "metadata": {},
   "outputs": [
    {
     "data": {
      "text/plain": [
       "32310"
      ]
     },
     "execution_count": 8,
     "metadata": {},
     "output_type": "execute_result"
    }
   ],
   "source": [
    "len(sentences)"
   ]
  },
  {
   "cell_type": "code",
   "execution_count": 9,
   "metadata": {},
   "outputs": [],
   "source": [
    "# Классифицируем текст с помощью FastText\n",
    "modelFT = FastText(sentences=sentences, size=100, min_count=1, window=5) # gensim == 4.3.1 vector_size\n",
    "modelFT.save(\"../data/bot_trained/ft_model\")"
   ]
  },
  {
   "cell_type": "code",
   "execution_count": 10,
   "metadata": {},
   "outputs": [],
   "source": [
    "# Создаем Индексы для вопросов-ответов\n",
    "\n",
    "#modelFT = FastText.load(\"../data/bot_trained/ft_model\")\n",
    "ft_index = annoy.AnnoyIndex(100 ,'angular')"
   ]
  },
  {
   "cell_type": "code",
   "execution_count": 11,
   "metadata": {
    "colab": {
     "referenced_widgets": [
      "256470eecba64a8ba53d2927414c4aa9"
     ]
    },
    "id": "wPgGv9CgVJ0D",
    "outputId": "61dac5e4-5fc9-43eb-8c48-1c59ca91c0d8"
   },
   "outputs": [
    {
     "data": {
      "application/vnd.jupyter.widget-view+json": {
       "model_id": "3cab9ab0cc6f41ebae93a29b1b2db9b3",
       "version_major": 2,
       "version_minor": 0
      },
      "text/plain": [
       "0it [00:00, ?it/s]"
      ]
     },
     "metadata": {},
     "output_type": "display_data"
    },
    {
     "data": {
      "text/plain": [
       "True"
      ]
     },
     "execution_count": 11,
     "metadata": {},
     "output_type": "execute_result"
    }
   ],
   "source": [
    "index_map = {}\n",
    "counter = 0\n",
    "\n",
    "with open(\"../data/prepared_answers.txt\", \"r\", encoding='utf-8') as f:\n",
    "    for line in tqdm(f):\n",
    "        n_ft = 0\n",
    "        spls = line.split(\"\\t\")\n",
    "        index_map[counter] = spls[1]\n",
    "        question = preprocess_txt(spls[0])\n",
    "        vector_ft = np.zeros(100)\n",
    "        for word in question:\n",
    "            if word in modelFT.wv:\n",
    "                vector_ft += modelFT.wv[word]\n",
    "                n_ft += 1\n",
    "        if n_ft > 0:\n",
    "            vector_ft = vector_ft / n_ft\n",
    "        ft_index.add_item(counter, vector_ft)\n",
    "            \n",
    "        counter += 1\n",
    "\n",
    "        if counter > 50000:\n",
    "            break\n",
    "\n",
    "ft_index.build(10)\n",
    "ft_index.save('../data/bot_trained/speaker.ann')"
   ]
  },
  {
   "cell_type": "code",
   "execution_count": 12,
   "metadata": {
    "id": "ofHcj4W8VJ0E",
    "outputId": "f40f185c-ae76-4c53-c08f-5428d1745c7b"
   },
   "outputs": [],
   "source": [
    "#ft_index = annoy.AnnoyIndex(100, 'angular')\n",
    "#ft_index.load('speaker.ann') "
   ]
  },
  {
   "cell_type": "code",
   "execution_count": 13,
   "metadata": {
    "id": "b9DvlLGVVJ0F",
    "outputId": "27a213d5-372d-428b-de89-0b1f19af8a73"
   },
   "outputs": [
    {
     "data": {
      "text/plain": [
       "[51, 315]"
      ]
     },
     "execution_count": 13,
     "metadata": {},
     "output_type": "execute_result"
    }
   ],
   "source": [
    "ft_index.get_nns_by_vector(np.zeros(100), 2)"
   ]
  },
  {
   "cell_type": "code",
   "execution_count": 14,
   "metadata": {
    "id": "23VbtYIiVJ0M"
   },
   "outputs": [],
   "source": [
    "with open(\"../data/bot_trained/index_speaker.pkl\", \"wb\") as f:\n",
    "    pickle.dump(index_map, f)"
   ]
  },
  {
   "cell_type": "code",
   "execution_count": 15,
   "metadata": {},
   "outputs": [],
   "source": [
    "with open(\"../data/bot_trained/index_speaker.pkl\", \"rb\") as f:\n",
    "    index_loaded = pickle.load(f)"
   ]
  },
  {
   "cell_type": "code",
   "execution_count": 16,
   "metadata": {},
   "outputs": [
    {
     "data": {
      "text/plain": [
       "'Защита мыслью. <br>Каждый человек должен в отношении вампиров взять для себя за правило: \"Нам не страшен серый волк\", то есть знать, что конкретный \"серый волк\" - вампир существует, но воспринимать его следует не как хищника, а как добрую домашнюю собачку. Такая \"собачка\" быстро почувствует, что вы не \"того поля ягода\" и быстро отстанет сама. <br>\"Витание в облаках\". <br>Тоже хороший способ. Мысленно представить себя находящимся в окружении приятных нашим ощущениям белых облаков или сине-голубого неба. Это просто и эффективно. <br>\"Подкормка негативом\". <br>Вампир хочет кушать? Так дайте ему. Соберите в себе все плохие мысли, эмоции, все то отрицательное, что каким-то образом закралось в организм. И всю эту \"тяжесть\" отдайте вампиру - пусть подавится. <br>Зеркало <br>При встрече или при общении с неприятным человеком мысленно представить, что между вами зеркальная стена, обращенная отражающей поверхностью к этому человеку. <br>\"Дикобраз\" <br>Этот способ выглядит следующим образом: человек, который почувствовал опасность, мысленно покрывает свое биополе иглами и шипами. Энергетический вампир, который попробует высосать вашу биоэнергию, будет ощущать боль при прикосновении биополей. <br>Замыкание контура биополя. <br> <br>Существует два способа. Каждый человек выбирает наиболее удобный ему. Первый способ заключается в скрещивании ног и рук при общении с человеком, от которого можно ждать неприятностей. Второй способ заключается в следующем: большой и указательный пальцы одной руки соединить с большим и указательным пальцами другой руки, образуя кольцо, а остальные пальцы каждой руки наложить друг на друга. Оба эти способа очень эффективны, так как благодаря ним замыкается контур биополя, не оставляя пробоин, и энергетический вампир просто не может пробиться через эту защиту и вытянуть нашу биоэнергию. <br> <br>Все приемы нужно делать незаметно, не демонстрируя своих действий и не привлекая внимания окружающих.. \\n'"
      ]
     },
     "execution_count": 16,
     "metadata": {},
     "output_type": "execute_result"
    }
   ],
   "source": [
    "# checking loaded from pickle index\n",
    "index_loaded[5]"
   ]
  },
  {
   "cell_type": "code",
   "execution_count": null,
   "metadata": {},
   "outputs": [],
   "source": []
  }
 ],
 "metadata": {
  "colab": {
   "name": "lesson_16.ipynb",
   "provenance": []
  },
  "kernelspec": {
   "display_name": "Python 3 (ipykernel)",
   "language": "python",
   "name": "python3"
  },
  "language_info": {
   "codemirror_mode": {
    "name": "ipython",
    "version": 3
   },
   "file_extension": ".py",
   "mimetype": "text/x-python",
   "name": "python",
   "nbconvert_exporter": "python",
   "pygments_lexer": "ipython3",
   "version": "3.9.13"
  }
 },
 "nbformat": 4,
 "nbformat_minor": 1
}
